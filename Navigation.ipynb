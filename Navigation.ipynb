{
 "cells": [
  {
   "cell_type": "markdown",
   "metadata": {},
   "source": [
    "# Navigation\n",
    "\n",
    "---\n",
    "\n",
    "In this notebook, you will learn how to use the Unity ML-Agents environment for the first project of the [Deep Reinforcement Learning Nanodegree](https://www.udacity.com/course/deep-reinforcement-learning-nanodegree--nd893).\n",
    "\n",
    "### 1. Start the Environment\n",
    "\n",
    "We begin by importing some necessary packages.  If the code cell below returns an error, please revisit the project instructions to double-check that you have installed [Unity ML-Agents](https://github.com/Unity-Technologies/ml-agents/blob/master/docs/Installation.md) and [NumPy](http://www.numpy.org/)."
   ]
  },
  {
   "cell_type": "code",
   "execution_count": 1,
   "metadata": {},
   "outputs": [],
   "source": [
    "from unityagents import UnityEnvironment\n",
    "import numpy as np"
   ]
  },
  {
   "cell_type": "markdown",
   "metadata": {},
   "source": [
    "Next, we will start the environment!  **_Before running the code cell below_**, change the `file_name` parameter to match the location of the Unity environment that you downloaded.\n",
    "\n",
    "- **Mac**: `\"path/to/Banana.app\"`\n",
    "- **Windows** (x86): `\"path/to/Banana_Windows_x86/Banana.exe\"`\n",
    "- **Windows** (x86_64): `\"path/to/Banana_Windows_x86_64/Banana.exe\"`\n",
    "- **Linux** (x86): `\"path/to/Banana_Linux/Banana.x86\"`\n",
    "- **Linux** (x86_64): `\"path/to/Banana_Linux/Banana.x86_64\"`\n",
    "- **Linux** (x86, headless): `\"path/to/Banana_Linux_NoVis/Banana.x86\"`\n",
    "- **Linux** (x86_64, headless): `\"path/to/Banana_Linux_NoVis/Banana.x86_64\"`\n",
    "\n",
    "For instance, if you are using a Mac, then you downloaded `Banana.app`.  If this file is in the same folder as the notebook, then the line below should appear as follows:\n",
    "```\n",
    "env = UnityEnvironment(file_name=\"Banana.app\")\n",
    "```"
   ]
  },
  {
   "cell_type": "code",
   "execution_count": 2,
   "metadata": {},
   "outputs": [
    {
     "name": "stderr",
     "output_type": "stream",
     "text": [
      "INFO:unityagents:\n",
      "'Academy' started successfully!\n",
      "Unity Academy name: Academy\n",
      "        Number of Brains: 1\n",
      "        Number of External Brains : 1\n",
      "        Lesson number : 0\n",
      "        Reset Parameters :\n",
      "\t\t\n",
      "Unity brain name: BananaBrain\n",
      "        Number of Visual Observations (per agent): 0\n",
      "        Vector Observation space type: continuous\n",
      "        Vector Observation space size (per agent): 37\n",
      "        Number of stacked Vector Observation: 1\n",
      "        Vector Action space type: discrete\n",
      "        Vector Action space size (per agent): 4\n",
      "        Vector Action descriptions: , , , \n"
     ]
    }
   ],
   "source": [
    "env = UnityEnvironment(file_name=\"Banana.exe\")"
   ]
  },
  {
   "cell_type": "markdown",
   "metadata": {},
   "source": [
    "Environments contain **_brains_** which are responsible for deciding the actions of their associated agents. Here we check for the first brain available, and set it as the default brain we will be controlling from Python."
   ]
  },
  {
   "cell_type": "code",
   "execution_count": 3,
   "metadata": {},
   "outputs": [],
   "source": [
    "# get the default brain\n",
    "brain_name = env.brain_names[0]\n",
    "brain = env.brains[brain_name]"
   ]
  },
  {
   "cell_type": "markdown",
   "metadata": {},
   "source": [
    "### 2. Examine the State and Action Spaces\n",
    "\n",
    "The simulation contains a single agent that navigates a large environment.  At each time step, it has four actions at its disposal:\n",
    "- `0` - walk forward \n",
    "- `1` - walk backward\n",
    "- `2` - turn left\n",
    "- `3` - turn right\n",
    "\n",
    "The state space has `37` dimensions and contains the agent's velocity, along with ray-based perception of objects around agent's forward direction.  A reward of `+1` is provided for collecting a yellow banana, and a reward of `-1` is provided for collecting a blue banana. \n",
    "\n",
    "Run the code cell below to print some information about the environment."
   ]
  },
  {
   "cell_type": "code",
   "execution_count": 4,
   "metadata": {},
   "outputs": [
    {
     "name": "stdout",
     "output_type": "stream",
     "text": [
      "Number of agents: 1\n",
      "Number of actions: 4\n",
      "States look like: [1.         0.         0.         0.         0.84408134 0.\n",
      " 0.         1.         0.         0.0748472  0.         1.\n",
      " 0.         0.         0.25755    1.         0.         0.\n",
      " 0.         0.74177343 0.         1.         0.         0.\n",
      " 0.25854847 0.         0.         1.         0.         0.09355672\n",
      " 0.         1.         0.         0.         0.31969345 0.\n",
      " 0.        ]\n",
      "States have length: 37\n"
     ]
    }
   ],
   "source": [
    "# reset the environment\n",
    "env_info = env.reset(train_mode=True)[brain_name]\n",
    "\n",
    "# number of agents in the environment\n",
    "print('Number of agents:', len(env_info.agents))\n",
    "\n",
    "# number of actions\n",
    "action_size = brain.vector_action_space_size\n",
    "print('Number of actions:', action_size)\n",
    "\n",
    "# examine the state space \n",
    "state = env_info.vector_observations[0]\n",
    "print('States look like:', state)\n",
    "state_size = len(state)\n",
    "print('States have length:', state_size)"
   ]
  },
  {
   "cell_type": "markdown",
   "metadata": {},
   "source": [
    "### 3. Take Random Actions in the Environment\n",
    "\n",
    "In the next code cell, you will learn how to use the Python API to control the agent and receive feedback from the environment.\n",
    "\n",
    "Once this cell is executed, you will watch the agent's performance, if it selects an action (uniformly) at random with each time step.  A window should pop up that allows you to observe the agent, as it moves through the environment.  \n",
    "\n",
    "Of course, as part of the project, you'll have to change the code so that the agent is able to use its experience to gradually choose better actions when interacting with the environment!"
   ]
  },
  {
   "cell_type": "code",
   "execution_count": 5,
   "metadata": {},
   "outputs": [
    {
     "name": "stdout",
     "output_type": "stream",
     "text": [
      "Score: 0.0\n"
     ]
    }
   ],
   "source": [
    "env_info = env.reset(train_mode=False)[brain_name] # reset the environment\n",
    "state = env_info.vector_observations[0]            # get the current state\n",
    "score = 0                                          # initialize the score\n",
    "while True:\n",
    "    action = np.random.randint(action_size)        # select an action\n",
    "    env_info = env.step(action)[brain_name]        # send the action to the environment\n",
    "    next_state = env_info.vector_observations[0]   # get the next state\n",
    "    reward = env_info.rewards[0]                   # get the reward\n",
    "    done = env_info.local_done[0]                  # see if episode has finished\n",
    "    score += reward                                # update the score\n",
    "    state = next_state                             # roll over the state to next time step\n",
    "    if done:                                       # exit loop if episode finished\n",
    "        break\n",
    "    \n",
    "print(\"Score: {}\".format(score))"
   ]
  },
  {
   "cell_type": "markdown",
   "metadata": {},
   "source": [
    "When finished, you can close the environment:<br><br>\n",
    "Run the cell below <strong>5. Close the environment</strong>."
   ]
  },
  {
   "cell_type": "markdown",
   "metadata": {},
   "source": [
    "### 4. It's Your Turn!\n",
    "\n",
    "Now it's your turn to train your own agent to solve the environment!  When training the environment, set `train_mode=True`, so that the line for resetting the environment looks like the following:\n",
    "```python\n",
    "env_info = env.reset(train_mode=True)[brain_name]\n",
    "```"
   ]
  },
  {
   "cell_type": "code",
   "execution_count": 6,
   "metadata": {},
   "outputs": [],
   "source": [
    "from collections import deque\n",
    "import matplotlib.pyplot as plt\n",
    "%matplotlib inline\n",
    "import torch\n",
    "from dqn_agent import DQNAgent\n",
    "from dqn_gridsearch import DQNGridsearch"
   ]
  },
  {
   "cell_type": "code",
   "execution_count": 7,
   "metadata": {},
   "outputs": [],
   "source": [
    "device = torch.device(\"cuda:0\" if torch.cuda.is_available() else \"cpu\")"
   ]
  },
  {
   "cell_type": "code",
   "execution_count": 8,
   "metadata": {},
   "outputs": [],
   "source": [
    "def formatEpisodeScore(i_episode, moving_avg_score):\n",
    "    \"\"\"Returns a formatted episode result.\n",
    "        \n",
    "        Params\n",
    "        ======\n",
    "        i_episode (int): episode index\n",
    "        moving_avg_score (float): a score value\n",
    "    \"\"\"\n",
    "    return f\"Episode: {i_episode}\\tMoving average score: {moving_avg_score:.2f}\""
   ]
  },
  {
   "cell_type": "code",
   "execution_count": 9,
   "metadata": {},
   "outputs": [],
   "source": [
    "def plot_scores(scores):\n",
    "    \"\"\"Plots a score list.\n",
    "        \n",
    "        Params\n",
    "        ======\n",
    "        scores (array): a score list\n",
    "    \"\"\"\n",
    "    fig = plt.figure()\n",
    "    ax = fig.add_subplot(111)\n",
    "    plt.plot(np.arange(len(scores)), scores)\n",
    "    plt.ylabel('Score')\n",
    "    plt.xlabel('Episode #')\n",
    "    plt.show()"
   ]
  },
  {
   "cell_type": "code",
   "execution_count": 10,
   "metadata": {},
   "outputs": [],
   "source": [
    "def dqn(agent, n_episodes=500, max_t=1000, eps_start=1.0, eps_end=0.01, eps_decay=0.995,\n",
    "       every_nth_episode=100, moving_avg_size=100, min_avg_score=13):\n",
    "\n",
    "    \"\"\" Trains a DQNAgent to solve the environment.\n",
    "        \n",
    "        Params\n",
    "        ======\n",
    "        agent (DQNAgent): an dqn agent\n",
    "        n_episodes (int): number of episodes\n",
    "        max_t (int): max number of episode steps\n",
    "        eps_start (float): start value for epsilon-greedy action selection\n",
    "        eps_end (float): minimum value for epsilon-greedy action selection\n",
    "        eps_decay (float): epsilon-greedy decay value\n",
    "        every_nth_episode (int): prints the score of every nth epsiode\n",
    "        moving_avg_size (int): the window size for calculationg the average score\n",
    "        min_avg_score (float): the minimum moving average score\n",
    "        \n",
    "        Returns\n",
    "        ======\n",
    "        scores (array): a list of all episode score\n",
    "        moving_avg_score (array): the last calculated moving average score\n",
    "        needed_epsiodes (int): the number of episodes to solve the environment\n",
    "    \"\"\"\n",
    "    \n",
    "    scores = []\n",
    "    scores_window = deque(maxlen=moving_avg_size)\n",
    "    needed_epsiodes = 0\n",
    "    eps = eps_start \n",
    "\n",
    "    for i_episode in range(1, n_episodes+1):\n",
    "        env_info = env.reset(train_mode=True)[brain_name]\n",
    "        state = env_info.vector_observations[0]\n",
    "        score = 0                     \n",
    "\n",
    "        for t in range(max_t):\n",
    "            action = agent.act(state, eps)  \n",
    "            env_info = env.step(action)[brain_name]        # send the action to the environment\n",
    "            \n",
    "            next_state = env_info.vector_observations[0]   # get the next state\n",
    "            reward = env_info.rewards[0]                   # get the reward\n",
    "            done = env_info.local_done[0]                  # see if episode has finished\n",
    "            agent.step(state, action, reward, next_state, done)\n",
    "            \n",
    "            score += reward                                # update the score\n",
    "            state = next_state                             # roll over the state to next time step\n",
    "            if done:                                       # exit loop if episode finished\n",
    "                break   \n",
    "            \n",
    "        scores_window.append(score)\n",
    "        scores.append(score)\n",
    "        moving_avg_score = np.mean(scores_window)\n",
    "        eps = max(eps_end, eps_decay*eps)\n",
    "\n",
    "        if i_episode % every_nth_episode == 0:\n",
    "            print(formatEpisodeScore(i_episode, moving_avg_score))\n",
    "        if moving_avg_score >= min_avg_score:\n",
    "            formattedEpisodeScore = formatEpisodeScore(i_episode, moving_avg_score)\n",
    "            print(f\"{formattedEpisodeScore}\\tEnvironment solved!\")\n",
    "            needed_epsiodes = i_episode\n",
    "            break\n",
    "        if (i_episode+1 == n_episodes+1) and (moving_avg_score < min_avg_score):\n",
    "            formattedEpisodeScore = formatEpisodeScore(i_episode, moving_avg_score)\n",
    "            print(f\"{formattedEpisodeScore}\\tEnvironment not solved!\")\n",
    "\n",
    "    return scores, moving_avg_score, needed_epsiodes    "
   ]
  },
  {
   "cell_type": "code",
   "execution_count": 11,
   "metadata": {},
   "outputs": [
    {
     "name": "stdout",
     "output_type": "stream",
     "text": [
      "Moving average size: 100\n",
      "Minimum moving average score: 13\n"
     ]
    }
   ],
   "source": [
    "moving_avg_size = 100\n",
    "min_avg_score = 13\n",
    "print(f\"Moving average size: {moving_avg_size}\")\n",
    "print(f\"Minimum moving average score: {min_avg_score}\")"
   ]
  },
  {
   "cell_type": "markdown",
   "metadata": {},
   "source": [
    "### 4.1 Learning Algorithm\n",
    "The environment was solved with the DQN algorithm. <br>\n",
    "<br>\n",
    "The actor model uses three linear layers with an input size of 37 (for every state), a hidden layer size of 64 and an output size of 4 (for every action)."
   ]
  },
  {
   "cell_type": "code",
   "execution_count": 12,
   "metadata": {
    "scrolled": false
   },
   "outputs": [
    {
     "name": "stdout",
     "output_type": "stream",
     "text": [
      "DQNGridsearch hyperparameters:\n",
      "lr: [0.0005, 0.005]\n",
      "gamma: [0.99, 0.1]\n",
      "\n",
      "DQNHyperparameters: 1/4\n",
      "lr: 0.0005\n",
      "gamma: 0.99\n",
      "buffer_size: 100000\n",
      "batch_size: 64\n",
      "tau: 0.001\n",
      "update_every: 4\n",
      "Episode: 200\tMoving average score: 3.93\n",
      "Episode: 400\tMoving average score: 10.02\n",
      "Episode: 476\tMoving average score: 13.00\tEnvironment solved!\n",
      "\n",
      "DQNHyperparameters: 2/4\n",
      "lr: 0.0005\n",
      "gamma: 0.1\n",
      "buffer_size: 100000\n",
      "batch_size: 64\n",
      "tau: 0.001\n",
      "update_every: 4\n",
      "Episode: 200\tMoving average score: 0.46\n",
      "Episode: 400\tMoving average score: 0.44\n",
      "Episode: 600\tMoving average score: 0.25\n",
      "Episode: 600\tMoving average score: 0.25\tEnvironment not solved!\n",
      "\n",
      "DQNHyperparameters: 3/4\n",
      "lr: 0.005\n",
      "gamma: 0.99\n",
      "buffer_size: 100000\n",
      "batch_size: 64\n",
      "tau: 0.001\n",
      "update_every: 4\n",
      "Episode: 200\tMoving average score: 2.46\n",
      "Episode: 400\tMoving average score: 6.08\n",
      "Episode: 600\tMoving average score: 10.14\n",
      "Episode: 600\tMoving average score: 10.14\tEnvironment not solved!\n",
      "\n",
      "DQNHyperparameters: 4/4\n",
      "lr: 0.005\n",
      "gamma: 0.1\n",
      "buffer_size: 100000\n",
      "batch_size: 64\n",
      "tau: 0.001\n",
      "update_every: 4\n",
      "Episode: 200\tMoving average score: -0.01\n",
      "Episode: 400\tMoving average score: 0.09\n",
      "Episode: 600\tMoving average score: 0.19\n",
      "Episode: 600\tMoving average score: 0.19\tEnvironment not solved!\n",
      "\n",
      "Best DQNHyperparameters:\n",
      "lr: 0.0005\n",
      "gamma: 0.99\n",
      "buffer_size: 100000\n",
      "batch_size: 64\n",
      "tau: 0.001\n",
      "update_every: 4\n",
      "Best moving average score: 13.00. Solved in 476 episodes.\n"
     ]
    }
   ],
   "source": [
    "dqn_gridsearch = DQNGridsearch()\n",
    "dqn_hyperparameters = dqn_gridsearch.create_gridsearch_params() #create a grid search hyperparameters list\n",
    "\n",
    "print(\"DQNGridsearch hyperparameters:\")\n",
    "print(dqn_gridsearch)\n",
    "print()\n",
    "dqn_params_len = len(dqn_hyperparameters)\n",
    "\n",
    "n_episodes = 600\n",
    "every_nth_episode = 200\n",
    "best_scores = []\n",
    "best_avg_score = 0\n",
    "best_needed_epsiodes = 0\n",
    "best_dqn_params = None\n",
    "\n",
    "for idx, dqn_params in enumerate(dqn_hyperparameters): #for every DQNHyperparameters object \n",
    "    print(f\"DQNHyperparameters: {idx+1}/{dqn_params_len}\")\n",
    "    print(dqn_params)\n",
    "    agent = DQNAgent(device, dqn_params, state_size, action_size, seed=0)\n",
    "    scores, moving_avg_score, needed_epsiodes = dqn(agent=agent, n_episodes=n_episodes, \n",
    "                                                    every_nth_episode=every_nth_episode, \n",
    "                                                    moving_avg_size=moving_avg_size, min_avg_score=min_avg_score)\n",
    "\n",
    "    if (moving_avg_score >= best_avg_score): # find the best moving average score\n",
    "        best_scores = scores\n",
    "        best_needed_epsiodes = needed_epsiodes\n",
    "        best_avg_score = moving_avg_score\n",
    "        best_dqn_params = dqn_params\n",
    "        torch.save(agent.qnetwork_local.state_dict(), 'checkpoint.pth') # save the best model weigths\n",
    "    print()\n",
    "    \n",
    "print(\"Best DQNHyperparameters:\")\n",
    "print(best_dqn_params)\n",
    "print(f\"Best moving average score: {best_avg_score:.2f}. Solved in {best_needed_epsiodes} episodes.\")"
   ]
  },
  {
   "cell_type": "markdown",
   "metadata": {},
   "source": [
    "### 4.2 Solution\n",
    "The environment could be solved in epsiode 476 with a learning rate of 0.0005 and gamm value of 0.99."
   ]
  },
  {
   "cell_type": "code",
   "execution_count": 13,
   "metadata": {},
   "outputs": [
    {
     "data": {
      "image/png": "[encoded data removed]",
      "text/plain": [
       "<Figure size 432x288 with 1 Axes>"
      ]
     },
     "metadata": {
      "needs_background": "light"
     },
     "output_type": "display_data"
    }
   ],
   "source": [
    "plot_scores(best_scores)"
   ]
  },
  {
   "cell_type": "markdown",
   "metadata": {},
   "source": [
    "### 4.3 Improvements\n",
    "The agent's performance could be improved with an implementation of a doubleDQN, dueling DQN or prioritized experience replay."
   ]
  },
  {
   "cell_type": "markdown",
   "metadata": {},
   "source": [
    "### 5. Close the environment"
   ]
  },
  {
   "cell_type": "code",
   "execution_count": 14,
   "metadata": {},
   "outputs": [],
   "source": [
    "env.close()"
   ]
  }
 ],
 "metadata": {
  "kernelspec": {
   "display_name": "Python 3",
   "language": "python",
   "name": "python3"
  },
  "language_info": {
   "codemirror_mode": {
    "name": "ipython",
    "version": 3
   },
   "file_extension": ".py",
   "mimetype": "text/x-python",
   "name": "python",
   "nbconvert_exporter": "python",
   "pygments_lexer": "ipython3",
   "version": "3.6.13"
  }
 },
 "nbformat": 4,
 "nbformat_minor": 2
}
